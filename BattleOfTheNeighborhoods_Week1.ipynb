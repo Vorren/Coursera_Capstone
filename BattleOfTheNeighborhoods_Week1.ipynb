{
    "cells": [
        {
            "cell_type": "markdown",
            "metadata": {
                "collapsed": true
            },
            "source": "## Battle of the Neighborhoods - Week 1"
        },
        {
            "cell_type": "markdown",
            "metadata": {},
            "source": "### Introduction / Business Problem"
        },
        {
            "cell_type": "markdown",
            "metadata": {},
            "source": "I am looking to enter the craft beer sector by opening a new brewery in Denver, Colorado. As with any business endeavor, there are a number of unknowns. The purpose of this project is to help identify which neighborhoods in Denver would be the best potential locations for a new brewery business. The target audience for this project will be myself. It will help me make an efficient decision on selecting a location.\n\nThe ideal neighbourhood for this new business would have a large number of potential customers and few direct competitors. I will look for neighborhoods that already support a number of drinkeries, like pubs, but have no or few existing breweries. I want to avoid opening the new brewery in a location with existing breweries who might already have loyal clients that can't be swayed away. However, neighborhoods that have few drinkeries of any type may not support any similar businesses."
        },
        {
            "cell_type": "markdown",
            "metadata": {},
            "source": "### Data"
        },
        {
            "cell_type": "markdown",
            "metadata": {},
            "source": "#### To solve the problem , we will use the following data:\n\n - List of neighborhoods in Denver, Colorado. This defines the scope of the project, which is confined to the city of Denver.\n - Latitude and longitude coordinates of those neighorhoods. This is required in order to plot the map and also to get the venue data.\n - Venue data.  We will uses this data to perform clustering on the neighborhoods.\n \n#### Sources of data and methods to extract them:\n\nThe list of Denver neighborhoods can be extracted from Wikipedia by web scraping and using the beautifulsoup package. The geographical coordinates of the neighborhoods can be determined using Python Geocoder package.\n\nData on neighborhood businesses can be found on FourSquare, which we will access through the FourSquare API.  FourSquare is a location technology company that gives developers access to their location data.  Location data includes details of \"venues\" - businesses, restaurants, parks, etc in relation toa specified geolocation. I will use this information to build neighborhood profiles of breweries.\n"
        },
        {
            "cell_type": "code",
            "execution_count": null,
            "metadata": {},
            "outputs": [],
            "source": ""
        }
    ],
    "metadata": {
        "kernelspec": {
            "display_name": "Python 3.6",
            "language": "python",
            "name": "python3"
        },
        "language_info": {
            "codemirror_mode": {
                "name": "ipython",
                "version": 3
            },
            "file_extension": ".py",
            "mimetype": "text/x-python",
            "name": "python",
            "nbconvert_exporter": "python",
            "pygments_lexer": "ipython3",
            "version": "3.6.9"
        }
    },
    "nbformat": 4,
    "nbformat_minor": 1
}